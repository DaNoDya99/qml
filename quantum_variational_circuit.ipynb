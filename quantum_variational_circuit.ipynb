{
 "cells": [
  {
   "cell_type": "code",
   "id": "be02449f-56af-4d0b-aaa1-b4c1f6d0db77",
   "metadata": {
    "ExecuteTime": {
     "end_time": "2025-06-08T09:17:45.226390Z",
     "start_time": "2025-06-08T09:17:43.959118Z"
    }
   },
   "source": [
    "import pennylane as qml\n",
    "from pennylane import numpy as np\n",
    "import matplotlib.pyplot as plt\n",
    "from scipy.stats import unitary_group\n",
    "from pennylane.optimize import SPSAOptimizer\n",
    "from sklearn.model_selection import train_test_split\n",
    "from sklearn.metrics import confusion_matrix, classification_report, ConfusionMatrixDisplay\n",
    "import warnings\n",
    "\n",
    "warnings.filterwarnings(\"ignore\", category=FutureWarning)"
   ],
   "outputs": [],
   "execution_count": 1
  },
  {
   "cell_type": "markdown",
   "id": "cf3f8f7c-08fe-4a8a-a312-541eace06c3a",
   "metadata": {},
   "source": [
    "### Set random seed for reproducibility"
   ]
  },
  {
   "cell_type": "code",
   "id": "efe33c23-d3b6-4369-9f8d-1cdd56f2b2eb",
   "metadata": {
    "ExecuteTime": {
     "end_time": "2025-06-08T09:17:45.234721Z",
     "start_time": "2025-06-08T09:17:45.232557Z"
    }
   },
   "source": [
    "np.random.seed(42)"
   ],
   "outputs": [],
   "execution_count": 2
  },
  {
   "cell_type": "code",
   "id": "7a15fa79-a328-4df5-9b1d-35934d2913c4",
   "metadata": {
    "ExecuteTime": {
     "end_time": "2025-06-08T09:17:45.331344Z",
     "start_time": "2025-06-08T09:17:45.329126Z"
    }
   },
   "source": [
    "num_qubits = 2           # Two-qubit system\n",
    "delta = 0.3              # Margin for data generation (similar to 'gap')\n",
    "num_samples = 100"
   ],
   "outputs": [],
   "execution_count": 3
  },
  {
   "cell_type": "markdown",
   "id": "9b42ab71-72ad-4641-a0eb-9af29db939fc",
   "metadata": {},
   "source": [
    "### φ(x): Feature map preprocessing\n",
    "##### -> Refers to nonlinear feature encoding: φ(x) = [x₀, x₁, (π − x₀)(π − x₁)]\n",
    "##### -> Corresponds to feature embedding before applying the quantum feature map"
   ]
  },
  {
   "cell_type": "code",
   "id": "223eae74-ef5e-45ad-869a-65c195753a25",
   "metadata": {
    "ExecuteTime": {
     "end_time": "2025-06-08T09:17:45.341534Z",
     "start_time": "2025-06-08T09:17:45.339927Z"
    }
   },
   "source": [
    "def phi(x):\n",
    "    return [x[0], x[1], (np.pi - x[0]) * (np.pi - x[1])]"
   ],
   "outputs": [],
   "execution_count": 4
  },
  {
   "cell_type": "markdown",
   "id": "0add5161-d6ea-417e-8eee-08454d3418c5",
   "metadata": {},
   "source": [
    "### Random SU(4) unitary generator\n",
    "  ##### -> Used to create a fixed measurement operator W†fW"
   ]
  },
  {
   "cell_type": "code",
   "id": "6ebb26c1-f89a-4794-86f3-12dbee738fcf",
   "metadata": {
    "ExecuteTime": {
     "end_time": "2025-06-08T09:17:45.361228Z",
     "start_time": "2025-06-08T09:17:45.359561Z"
    }
   },
   "source": [
    "def random_su4():\n",
    "    return unitary_group.rvs(4)"
   ],
   "outputs": [],
   "execution_count": 5
  },
  {
   "cell_type": "markdown",
   "id": "f3fc081c-af76-4604-9bae-a601f7f8a96d",
   "metadata": {},
   "source": [
    "### Expectation over Z⊗Z"
   ]
  },
  {
   "cell_type": "code",
   "id": "214726ee-640f-4861-afce-24b14649d6a7",
   "metadata": {
    "ExecuteTime": {
     "end_time": "2025-06-08T09:17:45.366255Z",
     "start_time": "2025-06-08T09:17:45.364162Z"
    }
   },
   "source": [
    "Z1Z2 = np.kron([[1, 0], [0, -1]], [[1, 0], [0, -1]])"
   ],
   "outputs": [],
   "execution_count": 6
  },
  {
   "cell_type": "markdown",
   "id": "04eb2944-8f51-440f-885d-e9176eba7b5d",
   "metadata": {},
   "source": [
    "### Device declaration"
   ]
  },
  {
   "cell_type": "code",
   "id": "d0599a9d-1c37-47a3-8bf1-49c07e7ed3a8",
   "metadata": {
    "ExecuteTime": {
     "end_time": "2025-06-08T09:17:45.372437Z",
     "start_time": "2025-06-08T09:17:45.370532Z"
    }
   },
   "source": [
    "dev = qml.device(\"default.qubit\", wires=2, shots=1000)"
   ],
   "outputs": [],
   "execution_count": 7
  },
  {
   "cell_type": "markdown",
   "id": "2a1cb863-1d63-411f-adc6-0ac366a344c1",
   "metadata": {},
   "source": [
    "### Quantum feature map circuit U_Φ(x) (Section: \"feature map circuit\")\n",
    "  #####  -> Implements U_Φ(x) as described in the paper \n",
    "  #####  -> This maps classical inputs to quantum states |Φ(x)⟩"
   ]
  },
  {
   "cell_type": "code",
   "id": "0e5a9e16-bfd0-4068-907e-69935931cb7f",
   "metadata": {
    "ExecuteTime": {
     "end_time": "2025-06-08T09:17:45.378828Z",
     "start_time": "2025-06-08T09:17:45.376867Z"
    }
   },
   "source": [
    "def feature_map(x):\n",
    "    for i in range(num_qubits):\n",
    "        qml.Hadamard(wires=i)\n",
    "        qml.RZ(x[i], wires=i)\n",
    "    for i in range(num_qubits - 1):\n",
    "        qml.CNOT(wires=[i, i+1])\n",
    "    for i in range(num_qubits):\n",
    "        qml.RY(x[i], wires=i)"
   ],
   "outputs": [],
   "execution_count": 8
  },
  {
   "cell_type": "code",
   "id": "94f6d1d6-9684-46c0-ac5a-beef7fedd71d",
   "metadata": {
    "ExecuteTime": {
     "end_time": "2025-06-08T09:17:45.385790Z",
     "start_time": "2025-06-08T09:17:45.382944Z"
    }
   },
   "source": [
    "V_matrix = random_su4()"
   ],
   "outputs": [],
   "execution_count": 9
  },
  {
   "cell_type": "code",
   "id": "9fe41edc-e497-4f2f-b273-7f73955df60f",
   "metadata": {
    "ExecuteTime": {
     "end_time": "2025-06-08T09:17:45.392634Z",
     "start_time": "2025-06-08T09:17:45.390591Z"
    }
   },
   "source": [
    "@qml.qnode(dev)\n",
    "def label_qnode(x):\n",
    "    feature_map(phi(x))\n",
    "    qml.QubitUnitary(V_matrix.conj().T, wires=[0, 1])\n",
    "    return qml.expval(qml.Hermitian(Z1Z2, wires=[0, 1]))"
   ],
   "outputs": [],
   "execution_count": 10
  },
  {
   "cell_type": "markdown",
   "id": "980cac92-9224-44d1-89ef-6e92755b2c54",
   "metadata": {},
   "source": [
    "### Labeling QNode using fixed measurement W†fW"
   ]
  },
  {
   "cell_type": "code",
   "id": "b7a2cd88-5066-4a23-9734-078917e7f9fd",
   "metadata": {
    "ExecuteTime": {
     "end_time": "2025-06-08T09:17:45.401944Z",
     "start_time": "2025-06-08T09:17:45.397519Z"
    }
   },
   "source": [
    "@qml.qnode(dev)\n",
    "def label_qnode(x):\n",
    "    # -> Used to assign labels based on a fixed quantum measurement\n",
    "    feature_map(phi(x))\n",
    "    qml.QubitUnitary(V_matrix.conj().T, wires=[0, 1])  # Applies W†\n",
    "    return qml.expval(qml.Hermitian(Z1Z2, wires=[0, 1]))  # f = Z⊗Z"
   ],
   "outputs": [],
   "execution_count": 11
  },
  {
   "cell_type": "markdown",
   "id": "845d8d7b-9949-407d-a10f-20eb8d0fa54a",
   "metadata": {},
   "source": [
    "### Data generation — parity classification (Section: \"The data\")"
   ]
  },
  {
   "cell_type": "code",
   "id": "f806c077-d6b7-4311-b8cb-165aef2e0978",
   "metadata": {
    "ExecuteTime": {
     "end_time": "2025-06-08T09:17:46.390490Z",
     "start_time": "2025-06-08T09:17:45.406167Z"
    }
   },
   "source": [
    "X_data, Y_labels = [], []\n",
    "\n",
    "while len(X_data) < 2 * num_samples:\n",
    "    x = 2 * np.pi * np.random.rand(2)\n",
    "    expectation = label_qnode(x)\n",
    "    if expectation >= delta:\n",
    "        Y_labels.append(1)\n",
    "        X_data.append(x)\n",
    "    elif expectation <= -delta:\n",
    "        Y_labels.append(-1)\n",
    "        X_data.append(x)"
   ],
   "outputs": [],
   "execution_count": 12
  },
  {
   "cell_type": "code",
   "id": "f0860237-23f8-4506-9418-97fe872df8ba",
   "metadata": {
    "ExecuteTime": {
     "end_time": "2025-06-08T09:17:46.402330Z",
     "start_time": "2025-06-08T09:17:46.398944Z"
    }
   },
   "source": [
    "X_data = np.array(X_data)\n",
    "Y_labels = np.array(Y_labels)"
   ],
   "outputs": [],
   "execution_count": 13
  },
  {
   "cell_type": "code",
   "id": "ae2d59af-9812-4c9a-9e26-c184d2ef193f",
   "metadata": {
    "ExecuteTime": {
     "end_time": "2025-06-08T09:17:46.482492Z",
     "start_time": "2025-06-08T09:17:46.412991Z"
    }
   },
   "source": [
    "plt.figure(figsize=(8, 6))\n",
    "plt.scatter(X_data[Y_labels == 1][:, 0], X_data[Y_labels == 1][:, 1], color='red', label='Label +1')\n",
    "plt.scatter(X_data[Y_labels == -1][:, 0], X_data[Y_labels == -1][:, 1], color='blue', label='Label -1')\n",
    "plt.title(\"Generated Quantum Data\")\n",
    "plt.xlabel(\"x0\")\n",
    "plt.ylabel(\"x1\")\n",
    "plt.legend()\n",
    "plt.show()"
   ],
   "outputs": [
    {
     "data": {
      "text/plain": [
       "<Figure size 800x600 with 1 Axes>"
      ],
      "image/png": "[encoded data removed]"
     },
     "metadata": {},
     "output_type": "display_data"
    }
   ],
   "execution_count": 14
  },
  {
   "cell_type": "code",
   "id": "221016aa-f509-4bb8-b0e1-8cb32d90a8ec",
   "metadata": {
    "ExecuteTime": {
     "end_time": "2025-06-08T09:17:46.496483Z",
     "start_time": "2025-06-08T09:17:46.493108Z"
    }
   },
   "source": [
    "X_train, X_test, y_train, y_test = train_test_split(X_data, Y_labels, test_size=0.3, random_state=42)"
   ],
   "outputs": [],
   "execution_count": 15
  },
  {
   "cell_type": "markdown",
   "id": "7a0609d9-991b-4bf9-9d77-d34fb3dc1d06",
   "metadata": {},
   "source": [
    "## Quantum Variational Circuit for Classification"
   ]
  },
  {
   "cell_type": "markdown",
   "id": "43c6cbd3-8dfa-4c83-acb7-4d24977fbdac",
   "metadata": {},
   "source": [
    "### Variational ansatz W(θ) (Section: \"Quantum variational classification\")\n",
    "##### -> This defines W(θ), the variational circuit trained to act as the separating hyperplane"
   ]
  },
  {
   "cell_type": "code",
   "id": "1a6b0eaa-a8b4-4fd0-acf5-505b321a28e1",
   "metadata": {
    "ExecuteTime": {
     "end_time": "2025-06-08T09:17:46.515239Z",
     "start_time": "2025-06-08T09:17:46.512135Z"
    }
   },
   "source": [
    "def variational_block(weights):\n",
    "    for i in range(num_qubits):\n",
    "        qml.RX(weights[i][0], wires=i)\n",
    "        qml.RY(weights[i][1], wires=i)\n",
    "    qml.CZ(wires=[0, 1])"
   ],
   "outputs": [],
   "execution_count": 16
  },
  {
   "cell_type": "code",
   "id": "a6f595e4-d805-419c-8cb0-daa8d42a9ac7",
   "metadata": {
    "ExecuteTime": {
     "end_time": "2025-06-08T09:17:46.531302Z",
     "start_time": "2025-06-08T09:17:46.529119Z"
    }
   },
   "source": [
    "obs = qml.PauliZ(0) @ qml.PauliZ(1)"
   ],
   "outputs": [],
   "execution_count": 17
  },
  {
   "cell_type": "markdown",
   "id": "3379c09e-1812-49c1-9118-f92ea494f90c",
   "metadata": {},
   "source": [
    "### Variational quantum classifier (VQC)\n",
    "##### -> Full circuit: state preparation + variational block + measurement"
   ]
  },
  {
   "cell_type": "code",
   "id": "f824b9a7-598d-41d6-8cc4-a9e023217aa8",
   "metadata": {
    "ExecuteTime": {
     "end_time": "2025-06-08T09:17:46.547054Z",
     "start_time": "2025-06-08T09:17:46.545263Z"
    }
   },
   "source": [
    "@qml.qnode(dev)\n",
    "def vqc(x, weights):\n",
    "    feature_map(phi(x))\n",
    "    variational_block(weights)\n",
    "    return qml.expval(obs)"
   ],
   "outputs": [],
   "execution_count": 18
  },
  {
   "cell_type": "code",
   "id": "0f4bac4a-b134-466b-85ca-525ef5369c68",
   "metadata": {
    "ExecuteTime": {
     "end_time": "2025-06-08T09:17:46.574805Z",
     "start_time": "2025-06-08T09:17:46.572286Z"
    }
   },
   "source": [
    "def cost_train(weights):\n",
    "    loss = 0\n",
    "    for x, y in zip(X_train, y_train):\n",
    "        pred = vqc(x, weights)\n",
    "        loss += (y - pred)**2\n",
    "    return loss / len(y_train)"
   ],
   "outputs": [],
   "execution_count": 19
  },
  {
   "cell_type": "markdown",
   "id": "76ac8e89-9bef-4a69-af2d-3371056fa4d7",
   "metadata": {},
   "source": [
    "### Optimizer: Simultaneous Perturbation Stochastic Approximation (SPSA)\n",
    "##### -> Training loop, optimizing θ in W(θ) "
   ]
  },
  {
   "cell_type": "code",
   "id": "db6bc2ae-e20b-4da4-89d1-08f68b472a5b",
   "metadata": {
    "ExecuteTime": {
     "end_time": "2025-06-08T09:23:44.561021Z",
     "start_time": "2025-06-08T09:17:46.581490Z"
    }
   },
   "source": [
    "weights = 0.01 * np.random.randn(num_qubits, 2, requires_grad=True)\n",
    "opt = SPSAOptimizer(maxiter=250)\n",
    "\n",
    "for i in range(500):\n",
    "    weights = opt.step(cost_train, weights)\n",
    "    if i % 100 == 0:\n",
    "        print(f\"[Train] Step {i}: Cost = {cost_train(weights):.4f}\")"
   ],
   "outputs": [
    {
     "name": "stdout",
     "output_type": "stream",
     "text": [
      "[Train] Step 0: Cost = 0.9390\n",
      "[Train] Step 100: Cost = 0.3143\n",
      "[Train] Step 200: Cost = 0.2750\n",
      "[Train] Step 300: Cost = 0.2672\n",
      "[Train] Step 400: Cost = 0.2588\n"
     ]
    }
   ],
   "execution_count": 20
  },
  {
   "cell_type": "code",
   "id": "0fc8bdbc-44fa-4160-a7c7-90998e6feb07",
   "metadata": {
    "ExecuteTime": {
     "end_time": "2025-06-08T09:23:44.591413Z",
     "start_time": "2025-06-08T09:23:44.589105Z"
    }
   },
   "source": [
    "def predict_label(x):\n",
    "    return 1 if vqc(x, weights) >= 0 else -1"
   ],
   "outputs": [],
   "execution_count": 21
  },
  {
   "cell_type": "code",
   "id": "a6eec2c7-b8a9-46b9-8077-ee7e3eb0ce93",
   "metadata": {
    "ExecuteTime": {
     "end_time": "2025-06-08T09:23:45.118596Z",
     "start_time": "2025-06-08T09:23:44.610670Z"
    }
   },
   "source": [
    "train_preds = [predict_label(x) for x in X_train]\n",
    "test_preds = [predict_label(x) for x in X_test]"
   ],
   "outputs": [],
   "execution_count": 22
  },
  {
   "cell_type": "code",
   "id": "94d9988c-dba1-45ac-9120-cf9e0fa7e652",
   "metadata": {
    "ExecuteTime": {
     "end_time": "2025-06-08T09:23:45.125269Z",
     "start_time": "2025-06-08T09:23:45.122969Z"
    }
   },
   "source": [
    "train_acc = np.mean(train_preds == y_train)\n",
    "test_acc = np.mean(test_preds == y_test)\n",
    "\n",
    "print(f\"\\nTraining Accuracy: {train_acc * 100:.2f}%\")\n",
    "print(f\"Test Accuracy: {test_acc * 100:.2f}%\")"
   ],
   "outputs": [
    {
     "name": "stdout",
     "output_type": "stream",
     "text": [
      "\n",
      "Training Accuracy: 97.86%\n",
      "Test Accuracy: 96.67%\n"
     ]
    }
   ],
   "execution_count": 23
  },
  {
   "cell_type": "code",
   "id": "9bed83fa-ae97-4bcf-b329-b51b695029f0",
   "metadata": {
    "ExecuteTime": {
     "end_time": "2025-06-08T09:23:45.192402Z",
     "start_time": "2025-06-08T09:23:45.142292Z"
    }
   },
   "source": [
    "cm = confusion_matrix(y_test, test_preds, labels=[1, -1])\n",
    "disp = ConfusionMatrixDisplay(confusion_matrix=cm, display_labels=[1, -1])\n",
    "disp.plot(cmap=plt.cm.Blues)\n",
    "plt.title(\"Confusion Matrix on Test Data\")\n",
    "plt.show()"
   ],
   "outputs": [
    {
     "data": {
      "text/plain": [
       "<Figure size 640x480 with 2 Axes>"
      ],
      "image/png": "[encoded data removed]"
     },
     "metadata": {},
     "output_type": "display_data"
    }
   ],
   "execution_count": 24
  },
  {
   "cell_type": "code",
   "id": "1d3ff4c9-385f-4601-9b62-8def13aca7f2",
   "metadata": {
    "ExecuteTime": {
     "end_time": "2025-06-08T09:23:45.212808Z",
     "start_time": "2025-06-08T09:23:45.206912Z"
    }
   },
   "source": [
    "print(\"\\nClassification Report (Test Data):\")\n",
    "print(classification_report(y_test, test_preds, labels=[1, -1], digits=4))"
   ],
   "outputs": [
    {
     "name": "stdout",
     "output_type": "stream",
     "text": [
      "\n",
      "Classification Report (Test Data):\n",
      "              precision    recall  f1-score   support\n",
      "\n",
      "           1     0.8462    1.0000    0.9167        11\n",
      "          -1     1.0000    0.9592    0.9792        49\n",
      "\n",
      "    accuracy                         0.9667        60\n",
      "   macro avg     0.9231    0.9796    0.9479        60\n",
      "weighted avg     0.9718    0.9667    0.9677        60\n",
      "\n"
     ]
    }
   ],
   "execution_count": 25
  },
  {
   "cell_type": "code",
   "id": "00131b27-0f90-48c8-88bf-0feefe7b5ac6",
   "metadata": {
    "ExecuteTime": {
     "end_time": "2025-06-08T09:23:45.230257Z",
     "start_time": "2025-06-08T09:23:45.227515Z"
    }
   },
   "source": [
    "def plot_decision_boundary(weights):\n",
    "    x_min, x_max = X_data[:, 0].min() - 1, X_data[:, 0].max() + 1\n",
    "    y_min, y_max = X_data[:, 1].min() - 1, X_data[:, 1].max() + 1\n",
    "    xx, yy = np.meshgrid(np.linspace(x_min, x_max, 100), np.linspace(y_min, y_max, 100))\n",
    "    grid_points = np.c_[xx.ravel(), yy.ravel()]\n",
    "\n",
    "    Z = np.array([predict_label(x) for x in grid_points])\n",
    "    Z = Z.reshape(xx.shape)\n",
    "\n",
    "    plt.figure(figsize=(8, 6))\n",
    "    plt.contourf(xx, yy, Z, alpha=0.3, cmap='coolwarm')\n",
    "    plt.scatter(X_data[Y_labels == 1][:, 0], X_data[Y_labels == 1][:, 1], color='red', label='Label +1')\n",
    "    plt.scatter(X_data[Y_labels == -1][:, 0], X_data[Y_labels == -1][:, 1], color='blue', label='Label -1')\n",
    "    plt.title(\"Decision Boundary of the Variational Circuit\")\n",
    "    plt.xlabel(\"x0\")\n",
    "    plt.ylabel(\"x1\")\n",
    "    plt.legend()\n",
    "    plt.show()"
   ],
   "outputs": [],
   "execution_count": 26
  },
  {
   "cell_type": "code",
   "id": "7a2324a8-570b-4bdd-9cbf-6c8c4d141628",
   "metadata": {
    "ExecuteTime": {
     "end_time": "2025-06-08T09:24:09.607902Z",
     "start_time": "2025-06-08T09:23:45.245135Z"
    }
   },
   "source": [
    "plot_decision_boundary(weights)"
   ],
   "outputs": [
    {
     "data": {
      "text/plain": [
       "<Figure size 800x600 with 1 Axes>"
      ],
      "image/png": "[encoded data removed]"
     },
     "metadata": {},
     "output_type": "display_data"
    }
   ],
   "execution_count": 27
  },
  {
   "cell_type": "markdown",
   "id": "0a0de62e-c4a1-4c98-b863-894074425019",
   "metadata": {},
   "source": [
    "## Quantum Kernel Estimation"
   ]
  },
  {
   "cell_type": "code",
   "id": "590a41bc-4f66-483b-9374-a545adb6ac00",
   "metadata": {
    "ExecuteTime": {
     "end_time": "2025-06-08T09:24:09.642221Z",
     "start_time": "2025-06-08T09:24:09.622222Z"
    }
   },
   "source": [
    "from sklearn.svm import SVC\n",
    "from sklearn.metrics import accuracy_score"
   ],
   "outputs": [],
   "execution_count": 28
  },
  {
   "metadata": {},
   "cell_type": "markdown",
   "source": "### Quantum kernel evaluation via the inner product of quantum states.",
   "id": "47c01cae0e49e20e"
  },
  {
   "cell_type": "code",
   "id": "3094e1ff-11be-4c1b-8d41-3dfbd425e4e4",
   "metadata": {
    "ExecuteTime": {
     "end_time": "2025-06-08T09:24:09.657624Z",
     "start_time": "2025-06-08T09:24:09.655738Z"
    }
   },
   "source": [
    "@qml.qnode(dev)\n",
    "def kernel_circuit(x1, x2):\n",
    "    feature_map(x1)\n",
    "    qml.adjoint(feature_map)(x2)\n",
    "    return qml.probs(wires=[0, 1])"
   ],
   "outputs": [],
   "execution_count": 29
  },
  {
   "metadata": {},
   "cell_type": "markdown",
   "source": [
    "### Entry of the quantum kernel matrix.\n",
    "##### ->  Extracts the probability of the |00⟩ outcome, representing the kernel value 𝐾(𝑥1,𝑥2)"
   ],
   "id": "5272d9510cd9ce57"
  },
  {
   "cell_type": "code",
   "id": "d30d1ca1-c726-4081-869f-438536cb111a",
   "metadata": {
    "ExecuteTime": {
     "end_time": "2025-06-08T09:24:09.672996Z",
     "start_time": "2025-06-08T09:24:09.671247Z"
    }
   },
   "source": [
    "def kernel_entry(x1, x2):\n",
    "    probs = kernel_circuit(x1, x2)\n",
    "    return probs[0]"
   ],
   "outputs": [],
   "execution_count": 30
  },
  {
   "metadata": {},
   "cell_type": "markdown",
   "source": "###  Computing the full kernel matrix (Gram matrix) between training and test datasets.",
   "id": "117e01b05c170094"
  },
  {
   "cell_type": "code",
   "id": "2f25369f-12f8-4ff1-b818-49e10ef826a2",
   "metadata": {
    "ExecuteTime": {
     "end_time": "2025-06-08T09:24:09.688942Z",
     "start_time": "2025-06-08T09:24:09.686532Z"
    }
   },
   "source": [
    "def kernel_matrix(X1, X2):\n",
    "    N = len(X1)\n",
    "    M = len(X2)\n",
    "    K = np.zeros((N, M))\n",
    "    for i in range(N):\n",
    "        for j in range(M):\n",
    "            K[i, j] = kernel_entry(X1[i], X2[j])\n",
    "    return K"
   ],
   "outputs": [],
   "execution_count": 31
  },
  {
   "metadata": {},
   "cell_type": "markdown",
   "source": "### Computes the training Gram matrix 𝐾𝑡𝑟𝑎𝑖𝑛, which captures all pairwise similarities in the training set using the quantum kernel.",
   "id": "49c5a4628b591f3c"
  },
  {
   "cell_type": "code",
   "id": "a49c1d03-6159-4a70-a7d1-3b6393c59cfa",
   "metadata": {
    "ExecuteTime": {
     "end_time": "2025-06-08T09:25:00.120522Z",
     "start_time": "2025-06-08T09:24:09.702433Z"
    }
   },
   "source": [
    "K_train = kernel_matrix(X_train, X_train)"
   ],
   "outputs": [],
   "execution_count": 32
  },
  {
   "metadata": {},
   "cell_type": "markdown",
   "source": [
    "### Classical SVM training using quantum-enhanced kernel.\n",
    "##### -> Uses the SVC from sklearn with precomputed kernel option, training it on the quantum kernel matrix instead of a standard kernel (like RBF or linear)."
   ],
   "id": "faa5a1b85d42e851"
  },
  {
   "cell_type": "code",
   "id": "fff8a8f1-a59a-4012-a429-15834a45da70",
   "metadata": {
    "ExecuteTime": {
     "end_time": "2025-06-08T09:25:00.155856Z",
     "start_time": "2025-06-08T09:25:00.151087Z"
    }
   },
   "source": [
    "svc = SVC(kernel='precomputed')\n",
    "svc.fit(K_train, y_train)"
   ],
   "outputs": [
    {
     "data": {
      "text/plain": [
       "SVC(kernel='precomputed')"
      ],
      "text/html": [
       "<style>#sk-container-id-1 {\n",
       "  /* Definition of color scheme common for light and dark mode */\n",
       "  --sklearn-color-text: #000;\n",
       "  --sklearn-color-text-muted: #666;\n",
       "  --sklearn-color-line: gray;\n",
       "  /* Definition of color scheme for unfitted estimators */\n",
       "  --sklearn-color-unfitted-level-0: #fff5e6;\n",
       "  --sklearn-color-unfitted-level-1: #f6e4d2;\n",
       "  --sklearn-color-unfitted-level-2: #ffe0b3;\n",
       "  --sklearn-color-unfitted-level-3: chocolate;\n",
       "  /* Definition of color scheme for fitted estimators */\n",
       "  --sklearn-color-fitted-level-0: #f0f8ff;\n",
       "  --sklearn-color-fitted-level-1: #d4ebff;\n",
       "  --sklearn-color-fitted-level-2: #b3dbfd;\n",
       "  --sklearn-color-fitted-level-3: cornflowerblue;\n",
       "\n",
       "  /* Specific color for light theme */\n",
       "  --sklearn-color-text-on-default-background: var(--sg-text-color, var(--theme-code-foreground, var(--jp-content-font-color1, black)));\n",
       "  --sklearn-color-background: var(--sg-background-color, var(--theme-background, var(--jp-layout-color0, white)));\n",
       "  --sklearn-color-border-box: var(--sg-text-color, var(--theme-code-foreground, var(--jp-content-font-color1, black)));\n",
       "  --sklearn-color-icon: #696969;\n",
       "\n",
       "  @media (prefers-color-scheme: dark) {\n",
       "    /* Redefinition of color scheme for dark theme */\n",
       "    --sklearn-color-text-on-default-background: var(--sg-text-color, var(--theme-code-foreground, var(--jp-content-font-color1, white)));\n",
       "    --sklearn-color-background: var(--sg-background-color, var(--theme-background, var(--jp-layout-color0, #111)));\n",
       "    --sklearn-color-border-box: var(--sg-text-color, var(--theme-code-foreground, var(--jp-content-font-color1, white)));\n",
       "    --sklearn-color-icon: #878787;\n",
       "  }\n",
       "}\n",
       "\n",
       "#sk-container-id-1 {\n",
       "  color: var(--sklearn-color-text);\n",
       "}\n",
       "\n",
       "#sk-container-id-1 pre {\n",
       "  padding: 0;\n",
       "}\n",
       "\n",
       "#sk-container-id-1 input.sk-hidden--visually {\n",
       "  border: 0;\n",
       "  clip: rect(1px 1px 1px 1px);\n",
       "  clip: rect(1px, 1px, 1px, 1px);\n",
       "  height: 1px;\n",
       "  margin: -1px;\n",
       "  overflow: hidden;\n",
       "  padding: 0;\n",
       "  position: absolute;\n",
       "  width: 1px;\n",
       "}\n",
       "\n",
       "#sk-container-id-1 div.sk-dashed-wrapped {\n",
       "  border: 1px dashed var(--sklearn-color-line);\n",
       "  margin: 0 0.4em 0.5em 0.4em;\n",
       "  box-sizing: border-box;\n",
       "  padding-bottom: 0.4em;\n",
       "  background-color: var(--sklearn-color-background);\n",
       "}\n",
       "\n",
       "#sk-container-id-1 div.sk-container {\n",
       "  /* jupyter's `normalize.less` sets `[hidden] { display: none; }`\n",
       "     but bootstrap.min.css set `[hidden] { display: none !important; }`\n",
       "     so we also need the `!important` here to be able to override the\n",
       "     default hidden behavior on the sphinx rendered scikit-learn.org.\n",
       "     See: https://github.com/scikit-learn/scikit-learn/issues/21755 */\n",
       "  display: inline-block !important;\n",
       "  position: relative;\n",
       "}\n",
       "\n",
       "#sk-container-id-1 div.sk-text-repr-fallback {\n",
       "  display: none;\n",
       "}\n",
       "\n",
       "div.sk-parallel-item,\n",
       "div.sk-serial,\n",
       "div.sk-item {\n",
       "  /* draw centered vertical line to link estimators */\n",
       "  background-image: linear-gradient(var(--sklearn-color-text-on-default-background), var(--sklearn-color-text-on-default-background));\n",
       "  background-size: 2px 100%;\n",
       "  background-repeat: no-repeat;\n",
       "  background-position: center center;\n",
       "}\n",
       "\n",
       "/* Parallel-specific style estimator block */\n",
       "\n",
       "#sk-container-id-1 div.sk-parallel-item::after {\n",
       "  content: \"\";\n",
       "  width: 100%;\n",
       "  border-bottom: 2px solid var(--sklearn-color-text-on-default-background);\n",
       "  flex-grow: 1;\n",
       "}\n",
       "\n",
       "#sk-container-id-1 div.sk-parallel {\n",
       "  display: flex;\n",
       "  align-items: stretch;\n",
       "  justify-content: center;\n",
       "  background-color: var(--sklearn-color-background);\n",
       "  position: relative;\n",
       "}\n",
       "\n",
       "#sk-container-id-1 div.sk-parallel-item {\n",
       "  display: flex;\n",
       "  flex-direction: column;\n",
       "}\n",
       "\n",
       "#sk-container-id-1 div.sk-parallel-item:first-child::after {\n",
       "  align-self: flex-end;\n",
       "  width: 50%;\n",
       "}\n",
       "\n",
       "#sk-container-id-1 div.sk-parallel-item:last-child::after {\n",
       "  align-self: flex-start;\n",
       "  width: 50%;\n",
       "}\n",
       "\n",
       "#sk-container-id-1 div.sk-parallel-item:only-child::after {\n",
       "  width: 0;\n",
       "}\n",
       "\n",
       "/* Serial-specific style estimator block */\n",
       "\n",
       "#sk-container-id-1 div.sk-serial {\n",
       "  display: flex;\n",
       "  flex-direction: column;\n",
       "  align-items: center;\n",
       "  background-color: var(--sklearn-color-background);\n",
       "  padding-right: 1em;\n",
       "  padding-left: 1em;\n",
       "}\n",
       "\n",
       "\n",
       "/* Toggleable style: style used for estimator/Pipeline/ColumnTransformer box that is\n",
       "clickable and can be expanded/collapsed.\n",
       "- Pipeline and ColumnTransformer use this feature and define the default style\n",
       "- Estimators will overwrite some part of the style using the `sk-estimator` class\n",
       "*/\n",
       "\n",
       "/* Pipeline and ColumnTransformer style (default) */\n",
       "\n",
       "#sk-container-id-1 div.sk-toggleable {\n",
       "  /* Default theme specific background. It is overwritten whether we have a\n",
       "  specific estimator or a Pipeline/ColumnTransformer */\n",
       "  background-color: var(--sklearn-color-background);\n",
       "}\n",
       "\n",
       "/* Toggleable label */\n",
       "#sk-container-id-1 label.sk-toggleable__label {\n",
       "  cursor: pointer;\n",
       "  display: flex;\n",
       "  width: 100%;\n",
       "  margin-bottom: 0;\n",
       "  padding: 0.5em;\n",
       "  box-sizing: border-box;\n",
       "  text-align: center;\n",
       "  align-items: start;\n",
       "  justify-content: space-between;\n",
       "  gap: 0.5em;\n",
       "}\n",
       "\n",
       "#sk-container-id-1 label.sk-toggleable__label .caption {\n",
       "  font-size: 0.6rem;\n",
       "  font-weight: lighter;\n",
       "  color: var(--sklearn-color-text-muted);\n",
       "}\n",
       "\n",
       "#sk-container-id-1 label.sk-toggleable__label-arrow:before {\n",
       "  /* Arrow on the left of the label */\n",
       "  content: \"▸\";\n",
       "  float: left;\n",
       "  margin-right: 0.25em;\n",
       "  color: var(--sklearn-color-icon);\n",
       "}\n",
       "\n",
       "#sk-container-id-1 label.sk-toggleable__label-arrow:hover:before {\n",
       "  color: var(--sklearn-color-text);\n",
       "}\n",
       "\n",
       "/* Toggleable content - dropdown */\n",
       "\n",
       "#sk-container-id-1 div.sk-toggleable__content {\n",
       "  max-height: 0;\n",
       "  max-width: 0;\n",
       "  overflow: hidden;\n",
       "  text-align: left;\n",
       "  /* unfitted */\n",
       "  background-color: var(--sklearn-color-unfitted-level-0);\n",
       "}\n",
       "\n",
       "#sk-container-id-1 div.sk-toggleable__content.fitted {\n",
       "  /* fitted */\n",
       "  background-color: var(--sklearn-color-fitted-level-0);\n",
       "}\n",
       "\n",
       "#sk-container-id-1 div.sk-toggleable__content pre {\n",
       "  margin: 0.2em;\n",
       "  border-radius: 0.25em;\n",
       "  color: var(--sklearn-color-text);\n",
       "  /* unfitted */\n",
       "  background-color: var(--sklearn-color-unfitted-level-0);\n",
       "}\n",
       "\n",
       "#sk-container-id-1 div.sk-toggleable__content.fitted pre {\n",
       "  /* unfitted */\n",
       "  background-color: var(--sklearn-color-fitted-level-0);\n",
       "}\n",
       "\n",
       "#sk-container-id-1 input.sk-toggleable__control:checked~div.sk-toggleable__content {\n",
       "  /* Expand drop-down */\n",
       "  max-height: 200px;\n",
       "  max-width: 100%;\n",
       "  overflow: auto;\n",
       "}\n",
       "\n",
       "#sk-container-id-1 input.sk-toggleable__control:checked~label.sk-toggleable__label-arrow:before {\n",
       "  content: \"▾\";\n",
       "}\n",
       "\n",
       "/* Pipeline/ColumnTransformer-specific style */\n",
       "\n",
       "#sk-container-id-1 div.sk-label input.sk-toggleable__control:checked~label.sk-toggleable__label {\n",
       "  color: var(--sklearn-color-text);\n",
       "  background-color: var(--sklearn-color-unfitted-level-2);\n",
       "}\n",
       "\n",
       "#sk-container-id-1 div.sk-label.fitted input.sk-toggleable__control:checked~label.sk-toggleable__label {\n",
       "  background-color: var(--sklearn-color-fitted-level-2);\n",
       "}\n",
       "\n",
       "/* Estimator-specific style */\n",
       "\n",
       "/* Colorize estimator box */\n",
       "#sk-container-id-1 div.sk-estimator input.sk-toggleable__control:checked~label.sk-toggleable__label {\n",
       "  /* unfitted */\n",
       "  background-color: var(--sklearn-color-unfitted-level-2);\n",
       "}\n",
       "\n",
       "#sk-container-id-1 div.sk-estimator.fitted input.sk-toggleable__control:checked~label.sk-toggleable__label {\n",
       "  /* fitted */\n",
       "  background-color: var(--sklearn-color-fitted-level-2);\n",
       "}\n",
       "\n",
       "#sk-container-id-1 div.sk-label label.sk-toggleable__label,\n",
       "#sk-container-id-1 div.sk-label label {\n",
       "  /* The background is the default theme color */\n",
       "  color: var(--sklearn-color-text-on-default-background);\n",
       "}\n",
       "\n",
       "/* On hover, darken the color of the background */\n",
       "#sk-container-id-1 div.sk-label:hover label.sk-toggleable__label {\n",
       "  color: var(--sklearn-color-text);\n",
       "  background-color: var(--sklearn-color-unfitted-level-2);\n",
       "}\n",
       "\n",
       "/* Label box, darken color on hover, fitted */\n",
       "#sk-container-id-1 div.sk-label.fitted:hover label.sk-toggleable__label.fitted {\n",
       "  color: var(--sklearn-color-text);\n",
       "  background-color: var(--sklearn-color-fitted-level-2);\n",
       "}\n",
       "\n",
       "/* Estimator label */\n",
       "\n",
       "#sk-container-id-1 div.sk-label label {\n",
       "  font-family: monospace;\n",
       "  font-weight: bold;\n",
       "  display: inline-block;\n",
       "  line-height: 1.2em;\n",
       "}\n",
       "\n",
       "#sk-container-id-1 div.sk-label-container {\n",
       "  text-align: center;\n",
       "}\n",
       "\n",
       "/* Estimator-specific */\n",
       "#sk-container-id-1 div.sk-estimator {\n",
       "  font-family: monospace;\n",
       "  border: 1px dotted var(--sklearn-color-border-box);\n",
       "  border-radius: 0.25em;\n",
       "  box-sizing: border-box;\n",
       "  margin-bottom: 0.5em;\n",
       "  /* unfitted */\n",
       "  background-color: var(--sklearn-color-unfitted-level-0);\n",
       "}\n",
       "\n",
       "#sk-container-id-1 div.sk-estimator.fitted {\n",
       "  /* fitted */\n",
       "  background-color: var(--sklearn-color-fitted-level-0);\n",
       "}\n",
       "\n",
       "/* on hover */\n",
       "#sk-container-id-1 div.sk-estimator:hover {\n",
       "  /* unfitted */\n",
       "  background-color: var(--sklearn-color-unfitted-level-2);\n",
       "}\n",
       "\n",
       "#sk-container-id-1 div.sk-estimator.fitted:hover {\n",
       "  /* fitted */\n",
       "  background-color: var(--sklearn-color-fitted-level-2);\n",
       "}\n",
       "\n",
       "/* Specification for estimator info (e.g. \"i\" and \"?\") */\n",
       "\n",
       "/* Common style for \"i\" and \"?\" */\n",
       "\n",
       ".sk-estimator-doc-link,\n",
       "a:link.sk-estimator-doc-link,\n",
       "a:visited.sk-estimator-doc-link {\n",
       "  float: right;\n",
       "  font-size: smaller;\n",
       "  line-height: 1em;\n",
       "  font-family: monospace;\n",
       "  background-color: var(--sklearn-color-background);\n",
       "  border-radius: 1em;\n",
       "  height: 1em;\n",
       "  width: 1em;\n",
       "  text-decoration: none !important;\n",
       "  margin-left: 0.5em;\n",
       "  text-align: center;\n",
       "  /* unfitted */\n",
       "  border: var(--sklearn-color-unfitted-level-1) 1pt solid;\n",
       "  color: var(--sklearn-color-unfitted-level-1);\n",
       "}\n",
       "\n",
       ".sk-estimator-doc-link.fitted,\n",
       "a:link.sk-estimator-doc-link.fitted,\n",
       "a:visited.sk-estimator-doc-link.fitted {\n",
       "  /* fitted */\n",
       "  border: var(--sklearn-color-fitted-level-1) 1pt solid;\n",
       "  color: var(--sklearn-color-fitted-level-1);\n",
       "}\n",
       "\n",
       "/* On hover */\n",
       "div.sk-estimator:hover .sk-estimator-doc-link:hover,\n",
       ".sk-estimator-doc-link:hover,\n",
       "div.sk-label-container:hover .sk-estimator-doc-link:hover,\n",
       ".sk-estimator-doc-link:hover {\n",
       "  /* unfitted */\n",
       "  background-color: var(--sklearn-color-unfitted-level-3);\n",
       "  color: var(--sklearn-color-background);\n",
       "  text-decoration: none;\n",
       "}\n",
       "\n",
       "div.sk-estimator.fitted:hover .sk-estimator-doc-link.fitted:hover,\n",
       ".sk-estimator-doc-link.fitted:hover,\n",
       "div.sk-label-container:hover .sk-estimator-doc-link.fitted:hover,\n",
       ".sk-estimator-doc-link.fitted:hover {\n",
       "  /* fitted */\n",
       "  background-color: var(--sklearn-color-fitted-level-3);\n",
       "  color: var(--sklearn-color-background);\n",
       "  text-decoration: none;\n",
       "}\n",
       "\n",
       "/* Span, style for the box shown on hovering the info icon */\n",
       ".sk-estimator-doc-link span {\n",
       "  display: none;\n",
       "  z-index: 9999;\n",
       "  position: relative;\n",
       "  font-weight: normal;\n",
       "  right: .2ex;\n",
       "  padding: .5ex;\n",
       "  margin: .5ex;\n",
       "  width: min-content;\n",
       "  min-width: 20ex;\n",
       "  max-width: 50ex;\n",
       "  color: var(--sklearn-color-text);\n",
       "  box-shadow: 2pt 2pt 4pt #999;\n",
       "  /* unfitted */\n",
       "  background: var(--sklearn-color-unfitted-level-0);\n",
       "  border: .5pt solid var(--sklearn-color-unfitted-level-3);\n",
       "}\n",
       "\n",
       ".sk-estimator-doc-link.fitted span {\n",
       "  /* fitted */\n",
       "  background: var(--sklearn-color-fitted-level-0);\n",
       "  border: var(--sklearn-color-fitted-level-3);\n",
       "}\n",
       "\n",
       ".sk-estimator-doc-link:hover span {\n",
       "  display: block;\n",
       "}\n",
       "\n",
       "/* \"?\"-specific style due to the `<a>` HTML tag */\n",
       "\n",
       "#sk-container-id-1 a.estimator_doc_link {\n",
       "  float: right;\n",
       "  font-size: 1rem;\n",
       "  line-height: 1em;\n",
       "  font-family: monospace;\n",
       "  background-color: var(--sklearn-color-background);\n",
       "  border-radius: 1rem;\n",
       "  height: 1rem;\n",
       "  width: 1rem;\n",
       "  text-decoration: none;\n",
       "  /* unfitted */\n",
       "  color: var(--sklearn-color-unfitted-level-1);\n",
       "  border: var(--sklearn-color-unfitted-level-1) 1pt solid;\n",
       "}\n",
       "\n",
       "#sk-container-id-1 a.estimator_doc_link.fitted {\n",
       "  /* fitted */\n",
       "  border: var(--sklearn-color-fitted-level-1) 1pt solid;\n",
       "  color: var(--sklearn-color-fitted-level-1);\n",
       "}\n",
       "\n",
       "/* On hover */\n",
       "#sk-container-id-1 a.estimator_doc_link:hover {\n",
       "  /* unfitted */\n",
       "  background-color: var(--sklearn-color-unfitted-level-3);\n",
       "  color: var(--sklearn-color-background);\n",
       "  text-decoration: none;\n",
       "}\n",
       "\n",
       "#sk-container-id-1 a.estimator_doc_link.fitted:hover {\n",
       "  /* fitted */\n",
       "  background-color: var(--sklearn-color-fitted-level-3);\n",
       "}\n",
       "</style><div id=\"sk-container-id-1\" class=\"sk-top-container\"><div class=\"sk-text-repr-fallback\"><pre>SVC(kernel=&#x27;precomputed&#x27;)</pre><b>In a Jupyter environment, please rerun this cell to show the HTML representation or trust the notebook. <br />On GitHub, the HTML representation is unable to render, please try loading this page with nbviewer.org.</b></div><div class=\"sk-container\" hidden><div class=\"sk-item\"><div class=\"sk-estimator fitted sk-toggleable\"><input class=\"sk-toggleable__control sk-hidden--visually\" id=\"sk-estimator-id-1\" type=\"checkbox\" checked><label for=\"sk-estimator-id-1\" class=\"sk-toggleable__label fitted sk-toggleable__label-arrow\"><div><div>SVC</div></div><div><a class=\"sk-estimator-doc-link fitted\" rel=\"noreferrer\" target=\"_blank\" href=\"https://scikit-learn.org/1.6/modules/generated/sklearn.svm.SVC.html\">?<span>Documentation for SVC</span></a><span class=\"sk-estimator-doc-link fitted\">i<span>Fitted</span></span></div></label><div class=\"sk-toggleable__content fitted\"><pre>SVC(kernel=&#x27;precomputed&#x27;)</pre></div> </div></div></div></div>"
      ]
     },
     "execution_count": 33,
     "metadata": {},
     "output_type": "execute_result"
    }
   ],
   "execution_count": 33
  },
  {
   "metadata": {},
   "cell_type": "markdown",
   "source": "### Evaluation phase: test kernel matrix computation.",
   "id": "7fca228a383ecfcd"
  },
  {
   "cell_type": "code",
   "id": "fc326fed-95d5-4f51-bcda-c24944f06eba",
   "metadata": {
    "ExecuteTime": {
     "end_time": "2025-06-08T09:25:21.607147Z",
     "start_time": "2025-06-08T09:25:00.177714Z"
    }
   },
   "source": [
    "K_test = kernel_matrix(X_test, X_train)"
   ],
   "outputs": [],
   "execution_count": 34
  },
  {
   "cell_type": "code",
   "id": "72a105d2-e8b3-4046-931e-2fd89c5443e7",
   "metadata": {
    "ExecuteTime": {
     "end_time": "2025-06-08T09:25:21.616460Z",
     "start_time": "2025-06-08T09:25:21.611974Z"
    }
   },
   "source": [
    "y_pred_train = svc.predict(K_train)\n",
    "y_pred_test = svc.predict(K_test)\n",
    "\n",
    "accuracy_train = accuracy_score(y_train, y_pred_train)\n",
    "accuracy_test = accuracy_score(y_test, y_pred_test)\n",
    "                                \n",
    "print(f\"Training accuracy: {accuracy_train * 100:.2f}%\")\n",
    "print(f\"Testing accuracy: {accuracy_test * 100:.2f}%\")"
   ],
   "outputs": [
    {
     "name": "stdout",
     "output_type": "stream",
     "text": [
      "Training accuracy: 100.00%\n",
      "Testing accuracy: 100.00%\n"
     ]
    }
   ],
   "execution_count": 35
  },
  {
   "cell_type": "code",
   "id": "a05a1389-0d3a-4249-8b4c-cec37ec95d6c",
   "metadata": {
    "ExecuteTime": {
     "end_time": "2025-06-08T09:25:21.694505Z",
     "start_time": "2025-06-08T09:25:21.647808Z"
    }
   },
   "source": [
    "cm_kernel = confusion_matrix(y_test, y_pred_test, labels=[1, -1])\n",
    "disp = ConfusionMatrixDisplay(confusion_matrix=cm, display_labels=[1, -1])\n",
    "disp.plot(cmap=plt.cm.Blues)\n",
    "plt.title(\"Confusion Matrix on Test Data\")\n",
    "plt.show()"
   ],
   "outputs": [
    {
     "data": {
      "text/plain": [
       "<Figure size 640x480 with 2 Axes>"
      ],
      "image/png": "[encoded data removed]"
     },
     "metadata": {},
     "output_type": "display_data"
    }
   ],
   "execution_count": 36
  },
  {
   "metadata": {
    "ExecuteTime": {
     "end_time": "2025-06-08T09:25:21.703890Z",
     "start_time": "2025-06-08T09:25:21.697759Z"
    }
   },
   "cell_type": "code",
   "source": [
    "print(\"\\nClassification Report (Test Data):\")\n",
    "print(classification_report(y_test, y_pred_test, labels=[1, -1], digits=4))"
   ],
   "id": "9339237a9604f88a",
   "outputs": [
    {
     "name": "stdout",
     "output_type": "stream",
     "text": [
      "\n",
      "Classification Report (Test Data):\n",
      "              precision    recall  f1-score   support\n",
      "\n",
      "           1     1.0000    1.0000    1.0000        11\n",
      "          -1     1.0000    1.0000    1.0000        49\n",
      "\n",
      "    accuracy                         1.0000        60\n",
      "   macro avg     1.0000    1.0000    1.0000        60\n",
      "weighted avg     1.0000    1.0000    1.0000        60\n",
      "\n"
     ]
    }
   ],
   "execution_count": 37
  },
  {
   "metadata": {
    "ExecuteTime": {
     "end_time": "2025-06-08T11:12:32.593079Z",
     "start_time": "2025-06-08T09:46:40.226396Z"
    }
   },
   "cell_type": "code",
   "source": [
    "\n",
    "def plot_kernel_decision_boundary(svc, X_train, y_train):\n",
    "    x_min, x_max = X_train[:, 0].min() - 1, X_train[:, 0].max() + 1\n",
    "    y_min, y_max = X_train[:, 1].min() - 1, X_train[:, 1].max() + 1\n",
    "    xx, yy = np.meshgrid(np.linspace(x_min, x_max, 100), np.linspace(y_min, y_max, 100))\n",
    "    grid_points = np.c_[xx.ravel(), yy.ravel()]\n",
    "\n",
    "    K_grid = kernel_matrix(grid_points, X_train)\n",
    "    Z = svc.predict(K_grid)\n",
    "    Z = Z.reshape(xx.shape)\n",
    "\n",
    "    plt.figure(figsize=(8, 6))\n",
    "    plt.contourf(xx, yy, Z, alpha=0.3, cmap='coolwarm')\n",
    "    plt.scatter(X_train[y_train == 1][:, 0], X_train[y_train == 1][:, 1], color='red', label='Label +1')\n",
    "    plt.scatter(X_train[y_train == -1][:, 0], X_train[y_train == -1][:, 1], color='blue', label='Label -1')\n",
    "    plt.title(\"Decision Boundary of the Quantum Kernel SVM\")\n",
    "    plt.xlabel(\"x0\")\n",
    "    plt.ylabel(\"x1\")\n",
    "    plt.legend()\n",
    "    plt.show()\n",
    "\n",
    "plot_kernel_decision_boundary(svc, X_train, y_train)"
   ],
   "id": "4edbe707f494da2c",
   "outputs": [
    {
     "data": {
      "text/plain": [
       "<Figure size 800x600 with 1 Axes>"
      ],
      "image/png": "[encoded data removed]"
     },
     "metadata": {},
     "output_type": "display_data"
    }
   ],
   "execution_count": 39
  },
  {
   "metadata": {},
   "cell_type": "code",
   "outputs": [],
   "execution_count": null,
   "source": "",
   "id": "4792b1055c33cf29"
  }
 ],
 "metadata": {
  "kernelspec": {
   "display_name": "Python 3 (ipykernel)",
   "language": "python",
   "name": "python3"
  },
  "language_info": {
   "codemirror_mode": {
    "name": "ipython",
    "version": 3
   },
   "file_extension": ".py",
   "mimetype": "text/x-python",
   "name": "python",
   "nbconvert_exporter": "python",
   "pygments_lexer": "ipython3",
   "version": "3.13.2"
  }
 },
 "nbformat": 4,
 "nbformat_minor": 5
}
